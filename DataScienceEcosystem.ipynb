{
 "cells": [
  {
   "cell_type": "markdown",
   "id": "59e27a76",
   "metadata": {},
   "source": [
    "# Data Science Tools and Ecosystem"
   ]
  },
  {
   "cell_type": "markdown",
   "id": "522df550",
   "metadata": {},
   "source": [
    "In this notebook, Data Science Tools and Ecosystem are summarized."
   ]
  },
  {
   "cell_type": "markdown",
   "id": "78f8fdba",
   "metadata": {},
   "source": [
    "## Author\n",
    "Mario de la Arena del Hoyo"
   ]
  },
  {
   "cell_type": "markdown",
   "id": "5d7dd951",
   "metadata": {},
   "source": [
    "**Objectives:**\n",
    "- List popular languages for Data Science\n",
    "- List commonly used libraries for Data Science\n",
    "- Create a table with some Data Science tools\n",
    "- Use simple arithmetic expression"
   ]
  },
  {
   "cell_type": "markdown",
   "id": "78be94eb",
   "metadata": {},
   "source": [
    "Some of the popular languages that Data Scientists use are:\n",
    "1. Python\n",
    "2. Java\n",
    "3. C++\n",
    "4. R\n",
    "5. SQL"
   ]
  },
  {
   "cell_type": "markdown",
   "id": "02debd12",
   "metadata": {},
   "source": [
    "Some of the commonly used libraries used by Data Scientists include:\n",
    "1. Matplotlib\n",
    "2. pandas\n",
    "3. NumPy\n",
    "4. ggplot2"
   ]
  },
  {
   "cell_type": "markdown",
   "id": "d4e7029e",
   "metadata": {},
   "source": [
    "| Data Science Tools |\n",
    "| ------ |\n",
    "| Jupyter Notebook |\n",
    "| Spyder |\n",
    "| VS Code |"
   ]
  },
  {
   "cell_type": "markdown",
   "id": "ba680f53",
   "metadata": {},
   "source": [
    "### Below are a few examples of evaluating arithmetic expressions in Python\n",
    "\n",
    "1. Addition:\n",
    "    ```python\n",
    "    result = 3 + 5\n",
    "    print(result)\n",
    "    ```\n",
    "\n",
    "2. Using Variables:\n",
    "    ```python\n",
    "    a = 5\n",
    "    b = 10\n",
    "    result = a * b + b / 2\n",
    "    print(result)\n",
    "    ```\n",
    "\n",
    "3. Mathematical Functions:\n",
    "    ```python\n",
    "    import math\n",
    "    result = math.sqrt(4) + math.pow(2, 3)\n",
    "    print(result)\n",
    "    ```\n",
    "\n",
    "4. Expressions with Parentheses:\n",
    "    ```python\n",
    "    result = (2 + 4) * 2\n",
    "    print(result)\n",
    "    ```"
   ]
  },
  {
   "cell_type": "code",
   "execution_count": 1,
   "id": "d9cddf8c",
   "metadata": {},
   "outputs": [
    {
     "name": "stdout",
     "output_type": "stream",
     "text": [
      "17\n"
     ]
    }
   ],
   "source": [
    "# This a simple arithmetic expression to mutiply then add integers\n",
    "result = (3*4)+5\n",
    "print(result)"
   ]
  },
  {
   "cell_type": "code",
   "execution_count": 2,
   "id": "066d4906",
   "metadata": {},
   "outputs": [
    {
     "name": "stdout",
     "output_type": "stream",
     "text": [
      "3.3333333333333335\n"
     ]
    }
   ],
   "source": [
    "# This will convert 200 minutes to hours by diving by 60\n",
    "minutes = 200\n",
    "hours = 200 / 60\n",
    "print(hours)"
   ]
  }
 ],
 "metadata": {
  "kernelspec": {
   "display_name": "Python 3 (ipykernel)",
   "language": "python",
   "name": "python3"
  },
  "language_info": {
   "codemirror_mode": {
    "name": "ipython",
    "version": 3
   },
   "file_extension": ".py",
   "mimetype": "text/x-python",
   "name": "python",
   "nbconvert_exporter": "python",
   "pygments_lexer": "ipython3",
   "version": "3.9.7"
  }
 },
 "nbformat": 4,
 "nbformat_minor": 5
}
